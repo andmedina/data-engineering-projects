{
 "cells": [
  {
   "cell_type": "markdown",
   "metadata": {},
   "source": [
    "# Project Scenario\n",
    "An international firm that is looking to expand its business in different countries across the world has recruited you. You have been hired as a junior Data Engineer and are tasked with creating an automated script that can extract the list of all countries in order of their GDPs in billion USDs (rounded to 2 decimal places), as logged by the International Monetary Fund (IMF). Since IMF releases this evaluation twice a year, this code will be used by the organization to extract the information as it is updated."
   ]
  },
  {
   "cell_type": "markdown",
   "metadata": {},
   "source": [
    "\n",
    "- Write a data extraction function to retrieve the relevant information from the required URL.\n",
    "- Transform the available GDP information into 'Billion USD' from 'Million USD'.\n",
    "- Load the transformed information to the required CSV file and as a database file.\n",
    "- Run the required query on the database.\n",
    "- Log the progress of the code with appropriate timestamps.\n"
   ]
  },
  {
   "cell_type": "code",
   "execution_count": 1,
   "metadata": {},
   "outputs": [],
   "source": [
    "import requests\n",
    "import sqlite3\n",
    "import pandas as pd\n",
    "from bs4 import BeautifulSoup\n",
    "import numpy as np\n",
    "from datetime import datetime"
   ]
  },
  {
   "cell_type": "markdown",
   "metadata": {},
   "source": [
    "## Task 0: Preliminary - Defining Values "
   ]
  },
  {
   "cell_type": "code",
   "execution_count": 2,
   "metadata": {},
   "outputs": [],
   "source": [
    "url = 'https://web.archive.org/web/20230902185326/https://en.wikipedia.org/wiki/List_of_countries_by_GDP_%28nominal%29'\n",
    "filename = 'Countries_by_GDP.csv'\n",
    "tablename = 'Countries_by_GDP'\n",
    "database_name = 'World_Economies.db'\n",
    "log_file = 'etl_project_log.txt'\n",
    "df = pd.DataFrame(columns=['Country', 'GDP_USD_millions'])\n",
    "#Attributes ofinterest are Country and GDP_USD_billion"
   ]
  },
  {
   "cell_type": "markdown",
   "metadata": {},
   "source": [
    "## Task 1: Extracting information"
   ]
  },
  {
   "cell_type": "markdown",
   "metadata": {},
   "source": [
    "#### Collect HTML "
   ]
  },
  {
   "cell_type": "code",
   "execution_count": 3,
   "metadata": {},
   "outputs": [],
   "source": [
    "response = requests.get(url).text\n",
    "\n",
    "#Parse the HTML content\n",
    "data = BeautifulSoup(response, 'html.parser')"
   ]
  },
  {
   "cell_type": "markdown",
   "metadata": {},
   "source": [
    "- Using the inspect tool we can see that our table information is under the tbody tag. So, let's examine that further. "
   ]
  },
  {
   "cell_type": "code",
   "execution_count": 4,
   "metadata": {},
   "outputs": [
    {
     "name": "stdout",
     "output_type": "stream",
     "text": [
      "7\n"
     ]
    }
   ],
   "source": [
    "#If we print the length of table we can find how many tables are present. \n",
    "table = data.find_all('tbody')\n",
    "print(len(table))"
   ]
  },
  {
   "cell_type": "code",
   "execution_count": 5,
   "metadata": {},
   "outputs": [],
   "source": [
    "#From inspecting the tables we can see our table of interest is the third one. \n",
    "#We can comfirm by getting the length of the rows and also printing out the table headers.\n",
    "rows = table[2].find_all('tr')"
   ]
  },
  {
   "cell_type": "code",
   "execution_count": 6,
   "metadata": {},
   "outputs": [
    {
     "name": "stdout",
     "output_type": "stream",
     "text": [
      "216\n"
     ]
    }
   ],
   "source": [
    "#216 rows seems about right\n",
    "print(len(rows))"
   ]
  },
  {
   "cell_type": "code",
   "execution_count": 7,
   "metadata": {},
   "outputs": [
    {
     "name": "stdout",
     "output_type": "stream",
     "text": [
      "<tr class=\"static-row-header\" style=\"text-align:center;vertical-align:bottom;\">\n",
      "<th rowspan=\"2\">Country/Territory\n",
      "</th>\n",
      "<th rowspan=\"2\"><a href=\"/web/20230902185326/https://en.wikipedia.org/wiki/United_Nations_geoscheme\" title=\"United Nations geoscheme\">UN region</a>\n",
      "</th>\n",
      "<th colspan=\"2\"><a href=\"/web/20230902185326/https://en.wikipedia.org/wiki/International_Monetary_Fund\" title=\"International Monetary Fund\">IMF</a><sup class=\"reference\" id=\"cite_ref-GDP_IMF_2-2\"><a href=\"#cite_note-GDP_IMF-2\">[1]</a></sup><sup class=\"reference\" id=\"cite_ref-15\"><a href=\"#cite_note-15\">[13]</a></sup>\n",
      "</th>\n",
      "<th colspan=\"2\"><a href=\"/web/20230902185326/https://en.wikipedia.org/wiki/World_Bank\" title=\"World Bank\">World Bank</a><sup class=\"reference\" id=\"cite_ref-16\"><a href=\"#cite_note-16\">[14]</a></sup>\n",
      "</th>\n",
      "<th colspan=\"2\"><a href=\"/web/20230902185326/https://en.wikipedia.org/wiki/United_Nations\" title=\"United Nations\">United Nations</a><sup class=\"reference\" id=\"cite_ref-UN_17-0\"><a href=\"#cite_note-UN-17\">[15]</a></sup>\n",
      "</th></tr>\n"
     ]
    }
   ],
   "source": [
    "#Headers seem right\n",
    "print(rows[0])\n",
    "\n",
    "#The table headers are \"Country/Territory\", \"UN region\", \"International Monetary Fund\", and so on. We have confirmation that we are now working with the right table. "
   ]
  },
  {
   "cell_type": "code",
   "execution_count": 8,
   "metadata": {},
   "outputs": [],
   "source": [
    "#Let's now extract the data from the counrty/territory headers and IMF -> Estimate'\n",
    "\n",
    "for row in rows:\n",
    "    cols = row.find_all('td')\n",
    "    if len(cols)!=0 and row.find('a') and '—' not in row.text:   \n",
    "        country = cols[0].text.strip()\n",
    "        gdp = cols[2].text.strip()        \n",
    "        df1 = pd.DataFrame({'Country' : [country], 'GDP_USD_millions' : [gdp] })\n",
    "        df = pd.concat([df, df1], ignore_index=True) "
   ]
  },
  {
   "cell_type": "code",
   "execution_count": 9,
   "metadata": {},
   "outputs": [
    {
     "data": {
      "text/html": [
       "<div>\n",
       "<style scoped>\n",
       "    .dataframe tbody tr th:only-of-type {\n",
       "        vertical-align: middle;\n",
       "    }\n",
       "\n",
       "    .dataframe tbody tr th {\n",
       "        vertical-align: top;\n",
       "    }\n",
       "\n",
       "    .dataframe thead th {\n",
       "        text-align: right;\n",
       "    }\n",
       "</style>\n",
       "<table border=\"1\" class=\"dataframe\">\n",
       "  <thead>\n",
       "    <tr style=\"text-align: right;\">\n",
       "      <th></th>\n",
       "      <th>Country</th>\n",
       "      <th>GDP_USD_millions</th>\n",
       "    </tr>\n",
       "  </thead>\n",
       "  <tbody>\n",
       "    <tr>\n",
       "      <th>0</th>\n",
       "      <td>United States</td>\n",
       "      <td>26,854,599</td>\n",
       "    </tr>\n",
       "    <tr>\n",
       "      <th>1</th>\n",
       "      <td>China</td>\n",
       "      <td>19,373,586</td>\n",
       "    </tr>\n",
       "    <tr>\n",
       "      <th>2</th>\n",
       "      <td>Japan</td>\n",
       "      <td>4,409,738</td>\n",
       "    </tr>\n",
       "    <tr>\n",
       "      <th>3</th>\n",
       "      <td>Germany</td>\n",
       "      <td>4,308,854</td>\n",
       "    </tr>\n",
       "    <tr>\n",
       "      <th>4</th>\n",
       "      <td>India</td>\n",
       "      <td>3,736,882</td>\n",
       "    </tr>\n",
       "  </tbody>\n",
       "</table>\n",
       "</div>"
      ],
      "text/plain": [
       "         Country GDP_USD_millions\n",
       "0  United States       26,854,599\n",
       "1          China       19,373,586\n",
       "2          Japan        4,409,738\n",
       "3        Germany        4,308,854\n",
       "4          India        3,736,882"
      ]
     },
     "execution_count": 9,
     "metadata": {},
     "output_type": "execute_result"
    }
   ],
   "source": [
    "# We can see we extracted the correct information\n",
    "df.head()"
   ]
  },
  {
   "cell_type": "markdown",
   "metadata": {},
   "source": [
    "## Task 2: Transform Information"
   ]
  },
  {
   "cell_type": "markdown",
   "metadata": {},
   "source": [
    "Three main tasks to complete here:\n",
    "\n",
    "- Convert gdp from currency format to floating numbers.\n",
    "- Round gdp to 2 decimal places.\n",
    "- Modify the name of the column from 'GDP_USD_millions' to 'GDP_USD_billions'."
   ]
  },
  {
   "cell_type": "code",
   "execution_count": 10,
   "metadata": {},
   "outputs": [],
   "source": [
    "#Task 1 \n",
    "df['GDP_USD_millions'] = df['GDP_USD_millions'].str.replace(',', '').astype(float)"
   ]
  },
  {
   "cell_type": "code",
   "execution_count": 11,
   "metadata": {},
   "outputs": [],
   "source": [
    "#Task 2 \n",
    "df['GDP_USD_millions'] = (df['GDP_USD_millions'] / 1000).round(2)"
   ]
  },
  {
   "cell_type": "code",
   "execution_count": 12,
   "metadata": {},
   "outputs": [],
   "source": [
    "#Task 3\n",
    "df = df.rename(columns= {'GDP_USD_millions' : 'GDP_USD_billions'})"
   ]
  },
  {
   "cell_type": "markdown",
   "metadata": {},
   "source": [
    "## Task 3: Load Information"
   ]
  },
  {
   "cell_type": "code",
   "execution_count": 13,
   "metadata": {},
   "outputs": [
    {
     "data": {
      "text/plain": [
       "180"
      ]
     },
     "execution_count": 13,
     "metadata": {},
     "output_type": "execute_result"
    }
   ],
   "source": [
    "#We want to store our informatoin as a csv file\n",
    "df.to_csv(filename)\n",
    "\n",
    "\n",
    "sql_connection = sqlite3.connect('World_Economies.db')\n",
    "#Now store the information in a db using sqlite\n",
    "df.to_sql(tablename, sql_connection, if_exists='replace', index=False)"
   ]
  },
  {
   "cell_type": "markdown",
   "metadata": {},
   "source": [
    "## Task 4: Query the Database"
   ]
  },
  {
   "cell_type": "code",
   "execution_count": 14,
   "metadata": {},
   "outputs": [
    {
     "name": "stdout",
     "output_type": "stream",
     "text": [
      "SELECT * from Countries_by_GDP WHERE GDP_USD_billions >= 100\n",
      "          Country  GDP_USD_billions\n",
      "0   United States          26854.60\n",
      "1           China          19373.59\n",
      "2           Japan           4409.74\n",
      "3         Germany           4308.85\n",
      "4           India           3736.88\n",
      "..            ...               ...\n",
      "63          Kenya            118.13\n",
      "64         Angola            117.88\n",
      "65           Oman            104.90\n",
      "66      Guatemala            102.31\n",
      "67       Bulgaria            100.64\n",
      "\n",
      "[68 rows x 2 columns]\n"
     ]
    }
   ],
   "source": [
    "query_statement = f\"SELECT * from {tablename} WHERE GDP_USD_billions >= 100\"\n",
    "print(query_statement)\n",
    "query_output = pd.read_sql(query_statement, sql_connection)\n",
    "print(query_output)\n",
    "\n",
    "sql_connection.close()"
   ]
  },
  {
   "cell_type": "markdown",
   "metadata": {},
   "source": [
    "## Task 5: Logging Process"
   ]
  },
  {
   "cell_type": "code",
   "execution_count": 15,
   "metadata": {},
   "outputs": [],
   "source": [
    "\n",
    "def log_progress(message):\n",
    "    ''' This function logs the mentioned message at a given stage of the code execution to a log file. Function returns nothing'''\n",
    "    timestamp_format = '%Y-%h-%d-%H:%M:%S' # Year-Monthname-Day-Hour-Minute-Second \n",
    "    now = datetime.now() # get current timestamp \n",
    "    timestamp = now.strftime(timestamp_format) \n",
    "    with open(\"./etl_project_log.txt\",\"a\") as f: \n",
    "        f.write(timestamp + ' : ' + message + '\\n')"
   ]
  },
  {
   "cell_type": "markdown",
   "metadata": {},
   "source": [
    "## Conclusion: We can organize the work in the functions below to handle various tasks and make it more automated. \n",
    "## We can try it in a seperate py file. Make it an stand alone executable. "
   ]
  },
  {
   "cell_type": "code",
   "execution_count": 16,
   "metadata": {},
   "outputs": [],
   "source": [
    "\n",
    "def extract(url):\n",
    "    ''' This function extracts the required\n",
    "    information from the website and saves it to a dataframe. The\n",
    "    function returns the dataframe for further processing. '''\n",
    "    response = requests.get(url).text\n",
    "    data = BeautifulSoup(response, 'html.parser')\n",
    "    table = data.find_all('tbody')\n",
    "    rows = table[2].find_all('tr')\n",
    "    for row in rows:\n",
    "        cols = row.find_all('td')\n",
    "        if len(cols)!=0 and row.find('a') and '—' not in row.text:   \n",
    "            country = cols[0].text.strip()\n",
    "            gdp = cols[2].text.strip()        \n",
    "            df1 = pd.DataFrame({'Country' : [country], 'GDP_USD_millions' : [gdp] })\n",
    "            df = pd.concat([df, df1], ignore_index=True)   \n",
    "\n",
    "    return df\n",
    "\n",
    "def transform(df):\n",
    "    ''' This function converts the GDP information from Currency\n",
    "    format to float value, transforms the information of GDP from\n",
    "    USD (Millions) to USD (Billions) rounding to 2 decimal places.\n",
    "    The function returns the transformed dataframe.'''\n",
    "    df['GDP_USD_millions'] = df['GDP_USD_millions'].str.replace(',', '').astype(float)    \n",
    "    df['GDP_USD_millions'] = (df['GDP_USD_millions'] / 1000).round(2)\n",
    "    df = df.rename(columns= {'GDP_USD_millions' : 'GDP_USD_billions'})\n",
    "    return df\n",
    "\n",
    "def load_to_csv(df, path):\n",
    "    ''' This function saves the final dataframe as a `CSV` file \n",
    "    in the provided path. Function returns nothing.'''\n",
    "    df.to_csv(path)\n",
    "\n",
    "def load_to_db(df, sql_connection, table):\n",
    "    ''' This function saves the final dataframe as a database table\n",
    "    with the provided name. Function returns nothing.'''\n",
    "    df.to_sql(table, sql_connection, if_exists='replace', index=False)\n",
    "\n",
    "def run_query(query_statement, sql_connection):\n",
    "    ''' This function runs the stated query on the database table and\n",
    "    prints the output on the terminal. Function returns nothing. '''\n",
    "    print(query_statement)\n",
    "    query_output = pd.read_sql(query_statement, sql_connection)\n",
    "    print(query_output)\n",
    "\n",
    "def log_progress(message):\n",
    "    ''' This function logs the mentioned message at a given stage of the code execution to a log file. Function returns nothing'''\n",
    "    timestamp_format = '%Y-%h-%d-%H:%M:%S' # Year-Monthname-Day-Hour-Minute-Second \n",
    "    now = datetime.now() # get current timestamp \n",
    "    timestamp = now.strftime(timestamp_format) \n",
    "    with open(\"./etl_project_log.txt\",\"a\") as f: \n",
    "        f.write(timestamp + ' : ' + message + '\\n')"
   ]
  }
 ],
 "metadata": {
  "kernelspec": {
   "display_name": "graduate_project",
   "language": "python",
   "name": "python3"
  },
  "language_info": {
   "codemirror_mode": {
    "name": "ipython",
    "version": 3
   },
   "file_extension": ".py",
   "mimetype": "text/x-python",
   "name": "python",
   "nbconvert_exporter": "python",
   "pygments_lexer": "ipython3",
   "version": "3.9.2"
  }
 },
 "nbformat": 4,
 "nbformat_minor": 2
}
