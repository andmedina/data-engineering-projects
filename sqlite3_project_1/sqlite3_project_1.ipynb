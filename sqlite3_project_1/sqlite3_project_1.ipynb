{
 "cells": [
  {
   "cell_type": "markdown",
   "metadata": {},
   "source": [
    "# Second normal form (2NF)"
   ]
  },
  {
   "cell_type": "markdown",
   "metadata": {},
   "source": [
    "\n",
    "#### A table is in First Normal Form (1NF) if it contains only atomic (indivisible) values and each column contains values of a single type.\n",
    "#### A table is in Second Normal Form (2NF) if it is in First Normal Form (1NF) and all non-key attributes are fully functionally dependent on the entire primary key.\n"
   ]
  },
  {
   "cell_type": "code",
   "execution_count": 1,
   "metadata": {},
   "outputs": [],
   "source": [
    "import sqlite3\n",
    "import pandas as pd"
   ]
  },
  {
   "cell_type": "markdown",
   "metadata": {},
   "source": [
    "# Step 1: Set up the table\n"
   ]
  },
  {
   "cell_type": "markdown",
   "metadata": {},
   "source": [
    "#### Store our query as a string. \n",
    "\n",
    "##### This will create the BookShop table which contains information about books. It also contains author information. \n"
   ]
  },
  {
   "cell_type": "code",
   "execution_count": 2,
   "metadata": {},
   "outputs": [],
   "source": [
    "query = \"\"\"-- Drop the tables in case they exist\n",
    "\n",
    "DROP TABLE IF EXISTS BookShop;\n",
    "\n",
    "-- Create the table\n",
    "\n",
    "CREATE TABLE BookShop (\n",
    "\tBOOK_ID VARCHAR(4) NOT NULL, \n",
    "\tTITLE VARCHAR(100) NOT NULL, \n",
    "\tAUTHOR_NAME VARCHAR(30) NOT NULL, \n",
    "\tAUTHOR_BIO VARCHAR(250),\n",
    "\tAUTHOR_ID INTEGER NOT NULL, \n",
    "\tPUBLICATION_DATE DATE NOT NULL, \n",
    "\tPRICE_USD DECIMAL(6,2) CHECK(Price_USD>0) NOT NULL\n",
    "\t);\n",
    "\n",
    "-- Insert sample data into the table\n",
    "\n",
    "INSERT INTO BookShop VALUES\n",
    "('B101', 'Introduction to Algorithms', 'Thomas H. Cormen', 'Thomas H. Cormen is the co-author of Introduction to Algorithms, along with Charles Leiserson, Ron Rivest, and Cliff Stein. He is a Full Professor of computer science at Dartmouth College and currently Chair of the Dartmouth College Writing Program.', 123 , '2001-09-01', 125),\n",
    "('B201', 'Structure and Interpretation of Computer Programs', 'Harold Abelson', 'Harold Abelson, Ph.D., is Class of 1922 Professor of Computer Science and Engineering in the Department of Electrical Engineering and Computer Science at MIT and a fellow of the IEEE.', 456, '1996-07-25', 65.5),\n",
    "('B301', 'Deep Learning', 'Ian Goodfellow', 'Ian J. Goodfellow is a researcher working in machine learning, currently employed at Apple Inc. as its director of machine learning in the Special Projects Group. He was previously employed as a research scientist at Google Brain.', 369, '2016-11-01', 82.7),\n",
    "('B401', 'Algorithms Unlocked', 'Thomas H. Cormen', 'Thomas H. Cormen is the co-author of Introduction to Algorithms, along with Charles Leiserson, Ron Rivest, and Cliff Stein. He is a Full Professor of computer science at Dartmouth College and currently Chair of the Dartmouth College Writing Program.', 123, '2013-05-15', 36.5),\n",
    "('B501', 'Machine Learning: A Probabilistic Perspective', 'Kevin P. Murphy', '', 157, '2012-08-24', 46);\n",
    "\n",
    "-- Retrieve all records from the table\n",
    "\n",
    "SELECT * FROM BookShop; \"\"\""
   ]
  },
  {
   "cell_type": "markdown",
   "metadata": {},
   "source": [
    "#### Now let's open a connection to the sqlite3 database\n"
   ]
  },
  {
   "cell_type": "code",
   "execution_count": 3,
   "metadata": {},
   "outputs": [],
   "source": [
    "# Establish a connection to SQLite database\n",
    "sql_connection = sqlite3.connect('books.db')\n",
    "# Execute the entire query\n",
    "cursor = sql_connection.cursor()\n",
    "cursor.executescript(query)\n",
    "# Use pandas to read SQL query results into a DataFrame\n",
    "df = pd.read_sql(\"SELECT * FROM BookShop\", sql_connection)"
   ]
  },
  {
   "cell_type": "code",
   "execution_count": 4,
   "metadata": {},
   "outputs": [
    {
     "data": {
      "text/html": [
       "<div>\n",
       "<style scoped>\n",
       "    .dataframe tbody tr th:only-of-type {\n",
       "        vertical-align: middle;\n",
       "    }\n",
       "\n",
       "    .dataframe tbody tr th {\n",
       "        vertical-align: top;\n",
       "    }\n",
       "\n",
       "    .dataframe thead th {\n",
       "        text-align: right;\n",
       "    }\n",
       "</style>\n",
       "<table border=\"1\" class=\"dataframe\">\n",
       "  <thead>\n",
       "    <tr style=\"text-align: right;\">\n",
       "      <th></th>\n",
       "      <th>BOOK_ID</th>\n",
       "      <th>TITLE</th>\n",
       "      <th>AUTHOR_NAME</th>\n",
       "      <th>AUTHOR_BIO</th>\n",
       "      <th>AUTHOR_ID</th>\n",
       "      <th>PUBLICATION_DATE</th>\n",
       "      <th>PRICE_USD</th>\n",
       "    </tr>\n",
       "  </thead>\n",
       "  <tbody>\n",
       "    <tr>\n",
       "      <th>0</th>\n",
       "      <td>B101</td>\n",
       "      <td>Introduction to Algorithms</td>\n",
       "      <td>Thomas H. Cormen</td>\n",
       "      <td>Thomas H. Cormen is the co-author of Introduct...</td>\n",
       "      <td>123</td>\n",
       "      <td>2001-09-01</td>\n",
       "      <td>125.0</td>\n",
       "    </tr>\n",
       "    <tr>\n",
       "      <th>1</th>\n",
       "      <td>B201</td>\n",
       "      <td>Structure and Interpretation of Computer Programs</td>\n",
       "      <td>Harold Abelson</td>\n",
       "      <td>Harold Abelson, Ph.D., is Class of 1922 Profes...</td>\n",
       "      <td>456</td>\n",
       "      <td>1996-07-25</td>\n",
       "      <td>65.5</td>\n",
       "    </tr>\n",
       "    <tr>\n",
       "      <th>2</th>\n",
       "      <td>B301</td>\n",
       "      <td>Deep Learning</td>\n",
       "      <td>Ian Goodfellow</td>\n",
       "      <td>Ian J. Goodfellow is a researcher working in m...</td>\n",
       "      <td>369</td>\n",
       "      <td>2016-11-01</td>\n",
       "      <td>82.7</td>\n",
       "    </tr>\n",
       "    <tr>\n",
       "      <th>3</th>\n",
       "      <td>B401</td>\n",
       "      <td>Algorithms Unlocked</td>\n",
       "      <td>Thomas H. Cormen</td>\n",
       "      <td>Thomas H. Cormen is the co-author of Introduct...</td>\n",
       "      <td>123</td>\n",
       "      <td>2013-05-15</td>\n",
       "      <td>36.5</td>\n",
       "    </tr>\n",
       "    <tr>\n",
       "      <th>4</th>\n",
       "      <td>B501</td>\n",
       "      <td>Machine Learning: A Probabilistic Perspective</td>\n",
       "      <td>Kevin P. Murphy</td>\n",
       "      <td></td>\n",
       "      <td>157</td>\n",
       "      <td>2012-08-24</td>\n",
       "      <td>46.0</td>\n",
       "    </tr>\n",
       "  </tbody>\n",
       "</table>\n",
       "</div>"
      ],
      "text/plain": [
       "  BOOK_ID                                              TITLE   \n",
       "0    B101                         Introduction to Algorithms  \\\n",
       "1    B201  Structure and Interpretation of Computer Programs   \n",
       "2    B301                                      Deep Learning   \n",
       "3    B401                                Algorithms Unlocked   \n",
       "4    B501      Machine Learning: A Probabilistic Perspective   \n",
       "\n",
       "        AUTHOR_NAME                                         AUTHOR_BIO   \n",
       "0  Thomas H. Cormen  Thomas H. Cormen is the co-author of Introduct...  \\\n",
       "1    Harold Abelson  Harold Abelson, Ph.D., is Class of 1922 Profes...   \n",
       "2    Ian Goodfellow  Ian J. Goodfellow is a researcher working in m...   \n",
       "3  Thomas H. Cormen  Thomas H. Cormen is the co-author of Introduct...   \n",
       "4   Kevin P. Murphy                                                      \n",
       "\n",
       "   AUTHOR_ID PUBLICATION_DATE  PRICE_USD  \n",
       "0        123       2001-09-01      125.0  \n",
       "1        456       1996-07-25       65.5  \n",
       "2        369       2016-11-01       82.7  \n",
       "3        123       2013-05-15       36.5  \n",
       "4        157       2012-08-24       46.0  "
      ]
     },
     "execution_count": 4,
     "metadata": {},
     "output_type": "execute_result"
    }
   ],
   "source": [
    "#Print the BookShop table\n",
    "df"
   ]
  },
  {
   "cell_type": "markdown",
   "metadata": {},
   "source": [
    "\n",
    "\n",
    "#### Problem: This table does not comply with 2NF. It contains redundant information. If we look at the author information, we can see that a single author can have many books. So, for each book instance, we are looking at redundant author information across multiple rows.\n",
    "\n",
    "#### If we want to change the author information for any reason, we must update this information in every row.\n",
    "\n",
    "#### Solution: Create a separate table with author information. Other tables can refer to this author information. If we ever need to update author information, we only do that one time in a single location. We achieve 2NF compliance."
   ]
  },
  {
   "cell_type": "markdown",
   "metadata": {},
   "source": [
    "#### Solution\n",
    "##### Split the BookTable into two different tables.\n",
    "- Table1: book information\n",
    "- Table2: author details "
   ]
  },
  {
   "cell_type": "code",
   "execution_count": 5,
   "metadata": {},
   "outputs": [
    {
     "data": {
      "text/plain": [
       "<sqlite3.Cursor at 0x11fb80c00>"
      ]
     },
     "execution_count": 5,
     "metadata": {},
     "output_type": "execute_result"
    }
   ],
   "source": [
    "'''Create the new BookShop_AuthorDetails table'''\n",
    "cursor.execute(\"DROP TABLE IF EXISTS BookShop_AuthorDetails;\") \n",
    "\n",
    "cursor.execute(\"\"\"\n",
    "CREATE TABLE IF NOT EXISTS BookShop_AuthorDetails (\n",
    "    AUTHOR_ID INTEGER NOT NULL,\n",
    "    AUTHOR_NAME VARCHAR(30) NOT NULL,\n",
    "    AUTHOR_BIO VARCHAR(250),\n",
    "    PRIMARY KEY (AUTHOR_ID)\n",
    ");\n",
    "\"\"\")"
   ]
  },
  {
   "cell_type": "code",
   "execution_count": 6,
   "metadata": {},
   "outputs": [
    {
     "data": {
      "text/plain": [
       "<sqlite3.Cursor at 0x11fb80c00>"
      ]
     },
     "execution_count": 6,
     "metadata": {},
     "output_type": "execute_result"
    }
   ],
   "source": [
    "'''Populate the BookShop_AuthorDetails table'''\n",
    "cursor.execute(\"\"\"\n",
    "INSERT INTO BookShop_AuthorDetails (AUTHOR_ID, AUTHOR_NAME, AUTHOR_BIO)\n",
    "SELECT DISTINCT AUTHOR_ID, AUTHOR_NAME, AUTHOR_BIO\n",
    "FROM BookShop;\n",
    "\"\"\")"
   ]
  },
  {
   "cell_type": "code",
   "execution_count": 7,
   "metadata": {},
   "outputs": [
    {
     "data": {
      "text/plain": [
       "<sqlite3.Cursor at 0x11fb80c00>"
      ]
     },
     "execution_count": 7,
     "metadata": {},
     "output_type": "execute_result"
    }
   ],
   "source": [
    "'''Modify the BookShop table to remove author details columns'''\n",
    "cursor.execute(\"\"\"\n",
    "CREATE TEMPORARY TABLE BookShop_backup AS\n",
    "SELECT BOOK_ID, TITLE, AUTHOR_ID, PUBLICATION_DATE, PRICE_USD\n",
    "FROM BookShop;\n",
    "\"\"\")\n",
    "\n",
    "cursor.execute(\"DROP TABLE BookShop;\")\n",
    "\n",
    "cursor.execute(\"\"\"\n",
    "CREATE TABLE BookShop (\n",
    "    BOOK_ID VARCHAR(4) NOT NULL,\n",
    "    TITLE VARCHAR(100) NOT NULL,\n",
    "    AUTHOR_ID INTEGER NOT NULL,\n",
    "    PUBLICATION_DATE DATE NOT NULL,\n",
    "    PRICE_USD DECIMAL(6,2) CHECK(PRICE_USD > 0) NOT NULL,\n",
    "    FOREIGN KEY (AUTHOR_ID) REFERENCES BookShop_AuthorDetails(AUTHOR_ID)\n",
    ");\n",
    "\"\"\")\n",
    "\n",
    "cursor.execute(\"\"\"\n",
    "INSERT INTO BookShop (BOOK_ID, TITLE, AUTHOR_ID, PUBLICATION_DATE, PRICE_USD)\n",
    "SELECT BOOK_ID, TITLE, AUTHOR_ID, PUBLICATION_DATE, PRICE_USD\n",
    "FROM BookShop_backup;\n",
    "\"\"\")\n",
    "\n",
    "cursor.execute(\"DROP TABLE BookShop_backup;\")"
   ]
  },
  {
   "cell_type": "code",
   "execution_count": 8,
   "metadata": {},
   "outputs": [],
   "source": [
    "# Commit the changes\n",
    "sql_connection.commit()\n",
    "\n",
    "# Fetch data from BookShop table\n",
    "df_bookshop = pd.read_sql(\"SELECT * FROM BookShop\", sql_connection)\n",
    "\n",
    "# Fetch data from BookShop_AuthorDetails table\n",
    "df_author_details = pd.read_sql(\"SELECT * FROM BookShop_AuthorDetails\", sql_connection)"
   ]
  },
  {
   "cell_type": "code",
   "execution_count": 9,
   "metadata": {},
   "outputs": [
    {
     "data": {
      "text/html": [
       "<div>\n",
       "<style scoped>\n",
       "    .dataframe tbody tr th:only-of-type {\n",
       "        vertical-align: middle;\n",
       "    }\n",
       "\n",
       "    .dataframe tbody tr th {\n",
       "        vertical-align: top;\n",
       "    }\n",
       "\n",
       "    .dataframe thead th {\n",
       "        text-align: right;\n",
       "    }\n",
       "</style>\n",
       "<table border=\"1\" class=\"dataframe\">\n",
       "  <thead>\n",
       "    <tr style=\"text-align: right;\">\n",
       "      <th></th>\n",
       "      <th>BOOK_ID</th>\n",
       "      <th>TITLE</th>\n",
       "      <th>AUTHOR_ID</th>\n",
       "      <th>PUBLICATION_DATE</th>\n",
       "      <th>PRICE_USD</th>\n",
       "    </tr>\n",
       "  </thead>\n",
       "  <tbody>\n",
       "    <tr>\n",
       "      <th>0</th>\n",
       "      <td>B101</td>\n",
       "      <td>Introduction to Algorithms</td>\n",
       "      <td>123</td>\n",
       "      <td>2001-09-01</td>\n",
       "      <td>125.0</td>\n",
       "    </tr>\n",
       "    <tr>\n",
       "      <th>1</th>\n",
       "      <td>B201</td>\n",
       "      <td>Structure and Interpretation of Computer Programs</td>\n",
       "      <td>456</td>\n",
       "      <td>1996-07-25</td>\n",
       "      <td>65.5</td>\n",
       "    </tr>\n",
       "    <tr>\n",
       "      <th>2</th>\n",
       "      <td>B301</td>\n",
       "      <td>Deep Learning</td>\n",
       "      <td>369</td>\n",
       "      <td>2016-11-01</td>\n",
       "      <td>82.7</td>\n",
       "    </tr>\n",
       "    <tr>\n",
       "      <th>3</th>\n",
       "      <td>B401</td>\n",
       "      <td>Algorithms Unlocked</td>\n",
       "      <td>123</td>\n",
       "      <td>2013-05-15</td>\n",
       "      <td>36.5</td>\n",
       "    </tr>\n",
       "    <tr>\n",
       "      <th>4</th>\n",
       "      <td>B501</td>\n",
       "      <td>Machine Learning: A Probabilistic Perspective</td>\n",
       "      <td>157</td>\n",
       "      <td>2012-08-24</td>\n",
       "      <td>46.0</td>\n",
       "    </tr>\n",
       "  </tbody>\n",
       "</table>\n",
       "</div>"
      ],
      "text/plain": [
       "  BOOK_ID                                              TITLE  AUTHOR_ID   \n",
       "0    B101                         Introduction to Algorithms        123  \\\n",
       "1    B201  Structure and Interpretation of Computer Programs        456   \n",
       "2    B301                                      Deep Learning        369   \n",
       "3    B401                                Algorithms Unlocked        123   \n",
       "4    B501      Machine Learning: A Probabilistic Perspective        157   \n",
       "\n",
       "  PUBLICATION_DATE  PRICE_USD  \n",
       "0       2001-09-01      125.0  \n",
       "1       1996-07-25       65.5  \n",
       "2       2016-11-01       82.7  \n",
       "3       2013-05-15       36.5  \n",
       "4       2012-08-24       46.0  "
      ]
     },
     "execution_count": 9,
     "metadata": {},
     "output_type": "execute_result"
    }
   ],
   "source": [
    "df_bookshop"
   ]
  },
  {
   "cell_type": "code",
   "execution_count": 10,
   "metadata": {},
   "outputs": [
    {
     "data": {
      "text/html": [
       "<div>\n",
       "<style scoped>\n",
       "    .dataframe tbody tr th:only-of-type {\n",
       "        vertical-align: middle;\n",
       "    }\n",
       "\n",
       "    .dataframe tbody tr th {\n",
       "        vertical-align: top;\n",
       "    }\n",
       "\n",
       "    .dataframe thead th {\n",
       "        text-align: right;\n",
       "    }\n",
       "</style>\n",
       "<table border=\"1\" class=\"dataframe\">\n",
       "  <thead>\n",
       "    <tr style=\"text-align: right;\">\n",
       "      <th></th>\n",
       "      <th>AUTHOR_ID</th>\n",
       "      <th>AUTHOR_NAME</th>\n",
       "      <th>AUTHOR_BIO</th>\n",
       "    </tr>\n",
       "  </thead>\n",
       "  <tbody>\n",
       "    <tr>\n",
       "      <th>0</th>\n",
       "      <td>123</td>\n",
       "      <td>Thomas H. Cormen</td>\n",
       "      <td>Thomas H. Cormen is the co-author of Introduct...</td>\n",
       "    </tr>\n",
       "    <tr>\n",
       "      <th>1</th>\n",
       "      <td>157</td>\n",
       "      <td>Kevin P. Murphy</td>\n",
       "      <td></td>\n",
       "    </tr>\n",
       "    <tr>\n",
       "      <th>2</th>\n",
       "      <td>369</td>\n",
       "      <td>Ian Goodfellow</td>\n",
       "      <td>Ian J. Goodfellow is a researcher working in m...</td>\n",
       "    </tr>\n",
       "    <tr>\n",
       "      <th>3</th>\n",
       "      <td>456</td>\n",
       "      <td>Harold Abelson</td>\n",
       "      <td>Harold Abelson, Ph.D., is Class of 1922 Profes...</td>\n",
       "    </tr>\n",
       "  </tbody>\n",
       "</table>\n",
       "</div>"
      ],
      "text/plain": [
       "   AUTHOR_ID       AUTHOR_NAME   \n",
       "0        123  Thomas H. Cormen  \\\n",
       "1        157   Kevin P. Murphy   \n",
       "2        369    Ian Goodfellow   \n",
       "3        456    Harold Abelson   \n",
       "\n",
       "                                          AUTHOR_BIO  \n",
       "0  Thomas H. Cormen is the co-author of Introduct...  \n",
       "1                                                     \n",
       "2  Ian J. Goodfellow is a researcher working in m...  \n",
       "3  Harold Abelson, Ph.D., is Class of 1922 Profes...  "
      ]
     },
     "execution_count": 10,
     "metadata": {},
     "output_type": "execute_result"
    }
   ],
   "source": [
    "df_author_details"
   ]
  },
  {
   "cell_type": "code",
   "execution_count": 11,
   "metadata": {},
   "outputs": [],
   "source": [
    "'''Commit the changes and close the connection'''\n",
    "sql_connection.close()"
   ]
  }
 ],
 "metadata": {
  "kernelspec": {
   "display_name": "graduate_project",
   "language": "python",
   "name": "python3"
  },
  "language_info": {
   "codemirror_mode": {
    "name": "ipython",
    "version": 3
   },
   "file_extension": ".py",
   "mimetype": "text/x-python",
   "name": "python",
   "nbconvert_exporter": "python",
   "pygments_lexer": "ipython3",
   "version": "3.9.2"
  }
 },
 "nbformat": 4,
 "nbformat_minor": 2
}
